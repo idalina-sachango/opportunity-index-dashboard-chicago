{
 "cells": [
  {
   "cell_type": "code",
   "execution_count": 3,
   "id": "e4ef6dc5",
   "metadata": {},
   "outputs": [],
   "source": [
    "import numpy as np\n",
    "import pandas as pd\n",
    "import requests\n",
    "\n",
    "data_dir = \"../Data/\"\n",
    "\n",
    "# CROSSWALK: CPS ID to NCES ID\n",
    "r = requests.get(\"https://data.cityofchicago.org/resource/c7jj-qjvh.json\")\n",
    "cps_cw_json = r.json()\n",
    "cps_cw = pd.DataFrame.from_dict(cps_cw_json, orient='columns')\n",
    "cps_cw.rename(columns = {'nces_id':'ncessch_num'}, inplace = True)"
   ]
  },
  {
   "cell_type": "code",
   "execution_count": 12,
   "id": "2646e3af",
   "metadata": {},
   "outputs": [
    {
     "data": {
      "text/html": [
       "<div>\n",
       "<style scoped>\n",
       "    .dataframe tbody tr th:only-of-type {\n",
       "        vertical-align: middle;\n",
       "    }\n",
       "\n",
       "    .dataframe tbody tr th {\n",
       "        vertical-align: top;\n",
       "    }\n",
       "\n",
       "    .dataframe thead th {\n",
       "        text-align: right;\n",
       "    }\n",
       "</style>\n",
       "<table border=\"1\" class=\"dataframe\">\n",
       "  <thead>\n",
       "    <tr style=\"text-align: right;\">\n",
       "      <th></th>\n",
       "      <th>schoolid</th>\n",
       "      <th>fullname</th>\n",
       "      <th>isbe_id</th>\n",
       "      <th>oracleid</th>\n",
       "      <th>ncessch_num</th>\n",
       "    </tr>\n",
       "  </thead>\n",
       "  <tbody>\n",
       "    <tr>\n",
       "      <th>28</th>\n",
       "      <td>400159</td>\n",
       "      <td>Christopher Charter House ES</td>\n",
       "      <td>NaN</td>\n",
       "      <td>NaN</td>\n",
       "      <td>NaN</td>\n",
       "    </tr>\n",
       "    <tr>\n",
       "      <th>50</th>\n",
       "      <td>609863</td>\n",
       "      <td>Christopher Columbus Elementary School</td>\n",
       "      <td>150162990252138</td>\n",
       "      <td>22791.0</td>\n",
       "      <td>170993000669</td>\n",
       "    </tr>\n",
       "    <tr>\n",
       "      <th>545</th>\n",
       "      <td>609855</td>\n",
       "      <td>Walter S Christopher Elementary School</td>\n",
       "      <td>150162990252904</td>\n",
       "      <td>30031.0</td>\n",
       "      <td>170993004376</td>\n",
       "    </tr>\n",
       "  </tbody>\n",
       "</table>\n",
       "</div>"
      ],
      "text/plain": [
       "    schoolid                                fullname          isbe_id  \\\n",
       "28    400159            Christopher Charter House ES              NaN   \n",
       "50    609863  Christopher Columbus Elementary School  150162990252138   \n",
       "545   609855  Walter S Christopher Elementary School  150162990252904   \n",
       "\n",
       "    oracleid   ncessch_num  \n",
       "28       NaN           NaN  \n",
       "50   22791.0  170993000669  \n",
       "545  30031.0  170993004376  "
      ]
     },
     "execution_count": 12,
     "metadata": {},
     "output_type": "execute_result"
    }
   ],
   "source": [
    "pd.set_option(\"display.max_rows\", 45)\n",
    "#cps_cw[[\"schoolid\",\"fullname\",\"isbe_id\",\"oracleid\"]]\n",
    "x = cps_cw.loc[cps_cw['fullname'].str.contains(\"christopher\", case=False)]\n",
    "x.columns\n",
    "x[[\"schoolid\",\"fullname\",\"isbe_id\",\"oracleid\",\"ncessch_num\"]]"
   ]
  }
 ],
 "metadata": {
  "kernelspec": {
   "display_name": "Python 3 (ipykernel)",
   "language": "python",
   "name": "python3"
  },
  "language_info": {
   "codemirror_mode": {
    "name": "ipython",
    "version": 3
   },
   "file_extension": ".py",
   "mimetype": "text/x-python",
   "name": "python",
   "nbconvert_exporter": "python",
   "pygments_lexer": "ipython3",
   "version": "3.9.7"
  }
 },
 "nbformat": 4,
 "nbformat_minor": 5
}
